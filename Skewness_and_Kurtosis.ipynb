{
 "cells": [
  {
   "cell_type": "code",
   "execution_count": 16,
   "id": "db4d477b",
   "metadata": {
    "pycharm": {
     "name": "#%%\n"
    }
   },
   "outputs": [],
   "source": [
    "import scipy.io\n",
    "import numpy as np\n",
    "from scipy.stats import skew\n",
    "from scipy.stats import kurtosis\n",
    "from scipy.io import savemat\n",
    "import warnings\n",
    "warnings.filterwarnings(\"ignore\", category=RuntimeWarning)"
   ]
  },
  {
   "cell_type": "code",
   "execution_count": 2,
   "id": "ced5f178",
   "metadata": {
    "pycharm": {
     "name": "#%%\n"
    }
   },
   "outputs": [],
   "source": [
    "#merge dictionary method\n",
    "def Merge(dict1, dict2):\n",
    "    res = {**dict1, **dict2}\n",
    "    return res"
   ]
  },
  {
   "cell_type": "code",
   "execution_count": 28,
   "id": "141cd165",
   "metadata": {
    "pycharm": {
     "name": "#%%\n"
    }
   },
   "outputs": [],
   "source": [
    "#load dataset\n",
    "#mat = scipy.io.loadmat('dataset_Hui.mat') dataset contains skew and kurt"
   ]
  },
  {
   "cell_type": "code",
   "execution_count": 2,
   "id": "1fbcda34",
   "metadata": {
    "pycharm": {
     "name": "#%%\n"
    }
   },
   "outputs": [],
   "source": [
    "#mat"
   ]
  },
  {
   "cell_type": "code",
   "execution_count": 19,
   "id": "c9cdbfc1",
   "metadata": {
    "pycharm": {
     "name": "#%%\n"
    }
   },
   "outputs": [],
   "source": [
    "#initialise normalised RTs for each case correct and error choices at differeing coherences\n",
    "\n",
    "#032=3.2% motion coherence and 128=12.8% motion coherence\n",
    "#c or e represent correct and error trials\n",
    "#c1 =case(i)  c2 =case(ii) c3 =case(iii) c4 =case(iv)\n",
    "scaling_var=1\n",
    "\n",
    "dt_c1_032=mat['DTc1_032']*scaling_var\n",
    "dt_c1_032=np.squeeze(dt_c1_032)\n",
    "dt_c1_128=mat['DTc1_128']*scaling_var\n",
    "dt_c1_128=np.squeeze(dt_c1_128)\n",
    "dt_e1_032=mat['DTe1_032']*scaling_var\n",
    "dt_e1_032=np.squeeze(dt_e1_032)\n",
    "dt_e1_128=mat['DTe1_128']*scaling_var\n",
    "dt_e1_128=np.squeeze(dt_e1_128)\n",
    "\n",
    "\n",
    "dt_c2_032=mat['DTc2_032']*scaling_var\n",
    "dt_c2_032=np.squeeze(dt_c2_032)\n",
    "dt_c2_128=mat['DTc2_128']*scaling_var\n",
    "dt_c2_128=np.squeeze(dt_c2_128)\n",
    "dt_e2_032=mat['DTe2_032']*scaling_var\n",
    "dt_e2_032=np.squeeze(dt_e2_032)\n",
    "dt_e2_128=mat['DTe2_128']*scaling_var\n",
    "dt_e2_128=np.squeeze(dt_e2_128)\n",
    "\n",
    "dt_c3_032=mat['DTc3_032']*scaling_var\n",
    "dt_c3_032=np.squeeze(dt_c3_032)\n",
    "dt_c3_128=mat['DTc3_128']*scaling_var\n",
    "dt_c3_128=np.squeeze(dt_c3_128)\n",
    "dt_e3_032=mat['DTe3_032']*scaling_var\n",
    "dt_e3_032=np.squeeze(dt_e3_032)\n",
    "dt_e3_128=mat['DTe3_128']*scaling_var\n",
    "dt_e3_128=np.squeeze(dt_e3_128)\n",
    "\n",
    "dt_c4_032=mat['DTc4_032']*scaling_var\n",
    "dt_c4_032=np.squeeze(dt_c4_032)\n",
    "dt_c4_128=mat['DTc4_128']*scaling_var\n",
    "dt_c4_128=np.squeeze(dt_c4_128)\n",
    "dt_e4_032=mat['DTe4_032']*scaling_var\n",
    "dt_e4_032=np.squeeze(dt_e4_032)\n",
    "dt_e4_128=mat['DTe4_128']*scaling_var\n",
    "dt_e4_128=np.squeeze(dt_e4_128)"
   ]
  },
  {
   "cell_type": "code",
   "execution_count": 20,
   "id": "51da8d27",
   "metadata": {
    "pycharm": {
     "name": "#%%\n"
    }
   },
   "outputs": [],
   "source": [
    "#calculate skewness using scipy skew method\n",
    "c1_032=skew(dt_c1_032, axis=0, bias=True)\n",
    "c1_128=skew(dt_c1_128, axis=0, bias=True)\n",
    "e1_032=skew(dt_e1_032, axis=0, bias=True)\n",
    "e1_128=skew(dt_e1_128, axis=0, bias=True)\n",
    "\n",
    "c2_032=skew(dt_c2_032, axis=0, bias=True)\n",
    "c2_128=skew(dt_c2_128, axis=0, bias=True)\n",
    "e2_032=skew(dt_e2_032, axis=0, bias=True)\n",
    "e2_128=skew(dt_e2_128, axis=0, bias=True)\n",
    "\n",
    "c3_032=skew(dt_c3_032, axis=0, bias=True)\n",
    "c3_128=skew(dt_c3_128, axis=0, bias=True)\n",
    "e3_032=skew(dt_e3_032, axis=0, bias=True)\n",
    "e3_128=skew(dt_e3_128, axis=0, bias=True)\n",
    "\n",
    "c4_032=skew(dt_c4_032, axis=0, bias=True)\n",
    "c4_128=skew(dt_c4_128, axis=0, bias=True)\n",
    "e4_032=skew(dt_e4_032, axis=0, bias=True)\n",
    "e4_128=skew(dt_e4_128, axis=0, bias=True)"
   ]
  },
  {
   "cell_type": "code",
   "execution_count": 21,
   "id": "3240bd08",
   "metadata": {
    "pycharm": {
     "name": "#%%\n"
    }
   },
   "outputs": [],
   "source": [
    "#skewness dictionary\n",
    "skewed={'Skewness Data follows':'[correct_032 , error_032, correct_128, error_128]', \n",
    "       'Case(i) skewness':[c1_032, e1_032, c1_128, e1_128],\n",
    "       'Case(ii) skewness':[c2_032, e2_032, c2_128, e2_128],\n",
    "       'Case(iii) skewness':[c3_032, e3_032, c3_128, e3_128],\n",
    "       'Case(iv) skewness':[c4_032, e4_032, c4_128, e4_128]\n",
    "     }"
   ]
  },
  {
   "cell_type": "code",
   "execution_count": 22,
   "id": "db76eb20",
   "metadata": {
    "pycharm": {
     "name": "#%%\n"
    }
   },
   "outputs": [],
   "source": [
    "#calculate kurtosis using scipy kurtosis method\n",
    "kc1_032=kurtosis(dt_c1_032, axis=0, bias=True)\n",
    "kc1_128=kurtosis(dt_c1_128, axis=0, bias=True)\n",
    "ke1_032=kurtosis(dt_e1_032, axis=0, bias=True)\n",
    "ke1_128=kurtosis(dt_e1_128, axis=0, bias=True)\n",
    "\n",
    "kc2_032=kurtosis(dt_c2_032, axis=0, bias=True)\n",
    "kc2_128=kurtosis(dt_c2_128, axis=0, bias=True)\n",
    "ke2_032=kurtosis(dt_e2_032, axis=0, bias=True)\n",
    "ke2_128=kurtosis(dt_e2_128, axis=0, bias=True)\n",
    "\n",
    "kc3_032=kurtosis(dt_c3_032, axis=0, bias=True)\n",
    "kc3_128=kurtosis(dt_c3_128, axis=0, bias=True)\n",
    "ke3_032=kurtosis(dt_e3_032, axis=0, bias=True)\n",
    "ke3_128=kurtosis(dt_e3_128, axis=0, bias=True)\n",
    "\n",
    "kc4_032=kurtosis(dt_c4_032, axis=0, bias=True)\n",
    "kc4_128=kurtosis(dt_c4_128, axis=0, bias=True)\n",
    "ke4_032=kurtosis(dt_e4_032, axis=0, bias=True)\n",
    "ke4_128=kurtosis(dt_e4_128, axis=0, bias=True)"
   ]
  },
  {
   "cell_type": "code",
   "execution_count": 23,
   "id": "1115f1b5",
   "metadata": {
    "pycharm": {
     "name": "#%%\n"
    }
   },
   "outputs": [],
   "source": [
    "#kurtosis dictionary\n",
    "kurt={ 'Kurtosis Data follows':'[correct_032, error_032, correct_128, error_128]',\n",
    "       'Case(i) kurtosis':[kc1_032, ke1_032, kc1_128, ke1_128],\n",
    "       'Case(ii) kurtosis':[kc2_032, ke2_032, kc2_128, ke2_128],\n",
    "       'Case(iii) kurtosis':[kc3_032, ke3_032, kc3_128, ke3_128],\n",
    "       'Case(iv) kurtosis':[kc4_032, ke4_032, kc4_128, ke4_128]\n",
    "     }"
   ]
  },
  {
   "cell_type": "code",
   "execution_count": 24,
   "id": "ee64f821",
   "metadata": {
    "pycharm": {
     "name": "#%%\n"
    }
   },
   "outputs": [],
   "source": [
    "#merge dictionaries\n",
    "res=Merge(skewed,kurt)\n",
    "dataset_skew_kurt=Merge(mat,res)"
   ]
  },
  {
   "cell_type": "code",
   "execution_count": 25,
   "id": "8a7aaf26",
   "metadata": {
    "pycharm": {
     "name": "#%%\n"
    }
   },
   "outputs": [
    {
     "data": {
      "text/plain": [
       "{'Skewness Data follows': '[correct_032 , error_032, correct_128, error_128]',\n",
       " 'Case(i) skewness': [0.5459381446862484,\n",
       "  0.4147025472541536,\n",
       "  0.854627868017002,\n",
       "  0.3616503491805696],\n",
       " 'Case(ii) skewness': [0.549736063977876,\n",
       "  0.41679921174282064,\n",
       "  0.8941356523648573,\n",
       "  0.34594168506452383],\n",
       " 'Case(iii) skewness': [0.5948899848784,\n",
       "  0.3929606259895223,\n",
       "  1.0933677635338876,\n",
       "  0.33414521417848486],\n",
       " 'Case(iv) skewness': [0.815508322185039,\n",
       "  1.4665553496882042,\n",
       "  0.4712443778286262,\n",
       "  0.8307877682485061],\n",
       " 'Kurtosis Data follows': '[correct_032, error_032, correct_128, error_128]',\n",
       " 'Case(i) kurtosis': [0.04727662427141821,\n",
       "  -0.08548182998727016,\n",
       "  0.7182917565526052,\n",
       "  -0.0637120425120834],\n",
       " 'Case(ii) kurtosis': [0.057437876848672964,\n",
       "  -0.07632984012945387,\n",
       "  0.8626446653956625,\n",
       "  -0.09518166096769187],\n",
       " 'Case(iii) kurtosis': [0.08116405678029137,\n",
       "  -0.026154817155892296,\n",
       "  1.263384309163289,\n",
       "  0.12667592654943727],\n",
       " 'Case(iv) kurtosis': [0.08102476050821528,\n",
       "  2.679235969464264,\n",
       "  -0.2321772388537373,\n",
       "  0.6595503982860831]}"
      ]
     },
     "execution_count": 25,
     "metadata": {},
     "output_type": "execute_result"
    }
   ],
   "source": [
    "res"
   ]
  },
  {
   "cell_type": "code",
   "execution_count": 12,
   "id": "845dd20c",
   "metadata": {
    "pycharm": {
     "name": "#%%\n"
    }
   },
   "outputs": [],
   "source": [
    "#merge dictionaries\n",
    "res=Merge(skewed,kurt)\n",
    "dataset_skew_kurt=Merge(mat,res)"
   ]
  },
  {
   "cell_type": "code",
   "execution_count": 1,
   "id": "08c5d20b",
   "metadata": {
    "pycharm": {
     "name": "#%%\n"
    }
   },
   "outputs": [],
   "source": [
    "#dataset_skew_kurt"
   ]
  },
  {
   "cell_type": "code",
   "execution_count": 27,
   "id": "942c9151",
   "metadata": {
    "pycharm": {
     "name": "#%%\n"
    }
   },
   "outputs": [],
   "source": [
    "#save dataset\n",
    "savemat(\"dataset_Hui.mat\", dataset_skew_kurt)"
   ]
  }
 ],
 "metadata": {
  "kernelspec": {
   "display_name": "Python 3 (ipykernel)",
   "language": "python",
   "name": "python3"
  },
  "language_info": {
   "codemirror_mode": {
    "name": "ipython",
    "version": 3
   },
   "file_extension": ".py",
   "mimetype": "text/x-python",
   "name": "python",
   "nbconvert_exporter": "python",
   "pygments_lexer": "ipython3",
   "version": "3.9.10"
  }
 },
 "nbformat": 4,
 "nbformat_minor": 5
}
